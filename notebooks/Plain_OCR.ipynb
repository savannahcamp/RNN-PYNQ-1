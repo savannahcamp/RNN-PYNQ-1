{
 "cells": [
  {
   "cell_type": "markdown",
   "metadata": {},
   "source": [
    "# LSTM on Pynq\n",
    "This notebook covers how to use the FPGA-accelerated BiLSTM implementation on PYNQ to perform optical character recognition (OCR). The BiLSTM has been trained on a simple dataset (here called *plain*) of a few hundreds sentences."
   ]
  },
  {
   "cell_type": "code",
   "execution_count": 1,
   "metadata": {},
   "outputs": [
    {
     "data": {
      "application/javascript": [
       "\n",
       "require(['notebook/js/codecell'], function(codecell) {\n",
       "  codecell.CodeCell.options_default.highlight_modes[\n",
       "      'magic_text/x-csrc'] = {'reg':[/^%%microblaze/]};\n",
       "  Jupyter.notebook.events.one('kernel_ready.Kernel', function(){\n",
       "      Jupyter.notebook.get_cells().map(function(cell){\n",
       "          if (cell.cell_type == 'code'){ cell.auto_highlight(); } }) ;\n",
       "  });\n",
       "});\n"
      ]
     },
     "metadata": {},
     "output_type": "display_data"
    }
   ],
   "source": [
    "import rnn"
   ]
  },
  {
   "cell_type": "markdown",
   "metadata": {},
   "source": [
    "## 1. Load a line of text\n",
    "Load a line of text that we are going to use as an example."
   ]
  },
  {
   "cell_type": "code",
   "execution_count": 2,
   "metadata": {},
   "outputs": [
    {
     "data": {
      "image/png": "[encoded data removed]",
      "text/plain": [
       "<PIL.PngImagePlugin.PngImageFile image mode=RGBA size=696x43 at 0x29139C90>"
      ]
     },
     "execution_count": 2,
     "metadata": {},
     "output_type": "execute_result"
    }
   ],
   "source": [
    "from PIL import Image\n",
    "im = Image.open('/home/xilinx/jupyter_notebooks/rnn/Plain_images/010077.bin.png')\n",
    "im"
   ]
  },
  {
   "cell_type": "markdown",
   "metadata": {},
   "source": [
    "## 2. Hardware accelerated OCR\n",
    "For this set of experiments, we trained the same BiLSTM architecture on the same dataset at different precisions. In the following cells, we show how performances scale with respect to the chosen precision: lowering precision allows to better parallelize our FPGA implementation of the model, thus reducing the overall inference time, at a negligible-to-none cost in terms of accuracy."
   ]
  },
  {
   "cell_type": "markdown",
   "metadata": {},
   "source": [
    "### Case 1\n",
    "**Weights**: *4 bits*\n",
    "**Activations**: *8 bits*\n",
    "**Parallelism**: *1x*"
   ]
  },
  {
   "cell_type": "code",
   "execution_count": 3,
   "metadata": {},
   "outputs": [
    {
     "name": "stdout",
     "output_type": "stream",
     "text": [
      "W4A8 HW OCRed text: mally, the process has to be described in\n",
      "W4A8 HW MOps/s: 16481.11213485034\n",
      "W4A8 HW inference time [ms]: 11.089892387390137\n"
     ]
    }
   ],
   "source": [
    "W4A8_hw_ocr = rnn.PynqPlainOCR(network=\"W4A8\", runtime=rnn.RUNTIME_HW)\n",
    "W4A8_hw_result = W4A8_hw_ocr.inference(im)\n",
    "W4A8_hw_mops_per_s, W4A8_hw_ms_inference_time, W4A8_hw_recognized_text = W4A8_hw_result\n",
    "W4A8_hw_ocr.cleanup()\n",
    "\n",
    "print(\"W4A8 HW OCRed text: {}\".format(W4A8_hw_recognized_text))\n",
    "print(\"W4A8 HW MOps/s: {}\".format(W4A8_hw_mops_per_s))\n",
    "print(\"W4A8 HW inference time [ms]: {}\".format(W4A8_hw_ms_inference_time))"
   ]
  },
  {
   "cell_type": "markdown",
   "metadata": {},
   "source": [
    "### Case 2\n",
    "**Weights**: *4 bits*\n",
    "**Activations**: *4 bits*\n",
    "**Parallelism**: *4x*"
   ]
  },
  {
   "cell_type": "code",
   "execution_count": 4,
   "metadata": {},
   "outputs": [
    {
     "name": "stdout",
     "output_type": "stream",
     "text": [
      "W4A4 HW OCRed text: mally, the process has to be described in\n",
      "W4A4 HW MOps/s: 61789.578061051216\n",
      "W4A4 HW inference time [ms]: 2.958003044128418\n"
     ]
    }
   ],
   "source": [
    "W4A4_hw_ocr = rnn.PynqPlainOCR(network=\"W4A4\", runtime=rnn.RUNTIME_HW)\n",
    "W4A4_hw_result = W4A4_hw_ocr.inference(im)\n",
    "W4A4_hw_mops_per_s, W4A4_hw_ms_inference_time, W4A4_hw_recognized_text = W4A4_hw_result\n",
    "W4A4_hw_ocr.cleanup()\n",
    "\n",
    "print(\"W4A4 HW OCRed text: {}\".format(W4A4_hw_recognized_text))\n",
    "print(\"W4A4 HW MOps/s: {}\".format(W4A4_hw_mops_per_s))\n",
    "print(\"W4A4 HW inference time [ms]: {}\".format(W4A4_hw_ms_inference_time))"
   ]
  },
  {
   "cell_type": "markdown",
   "metadata": {},
   "source": [
    "### Case 3\n",
    "**Weights**: *2 bits*\n",
    "**Activations**: *4 bits*\n",
    "**Parallelism**: *4x*"
   ]
  },
  {
   "cell_type": "code",
   "execution_count": 5,
   "metadata": {},
   "outputs": [
    {
     "name": "stdout",
     "output_type": "stream",
     "text": [
      "W2A4 HW OCRed text: mally, the process has to be described in\n",
      "W2A4 HW MOps/s: 61606.69599659392\n",
      "W2A4 HW inference time [ms]: 2.9667840003967285\n"
     ]
    }
   ],
   "source": [
    "W2A4_hw_ocr = rnn.PynqPlainOCR(network=\"W2A4\", runtime=rnn.RUNTIME_HW)\n",
    "W2A4_hw_result = W2A4_hw_ocr.inference(im)\n",
    "W2A4_hw_mops_per_s, W2A4_hw_ms_inference_time, W2A4_hw_recognized_text = W2A4_hw_result\n",
    "W2A4_hw_ocr.cleanup()\n",
    "\n",
    "print(\"W2A4 HW OCRed text: {}\".format(W2A4_hw_recognized_text))\n",
    "print(\"W2A4 HW MOps/s: {}\".format(W2A4_hw_mops_per_s))\n",
    "print(\"W2A4 HW inference time [ms]: {}\".format(W2A4_hw_ms_inference_time))"
   ]
  },
  {
   "cell_type": "markdown",
   "metadata": {},
   "source": [
    "### Case 4\n",
    "**Weights**: *2 bits* **Activations**: *2 bits* **Parallelism**: *8x*"
   ]
  },
  {
   "cell_type": "code",
   "execution_count": 6,
   "metadata": {},
   "outputs": [
    {
     "name": "stdout",
     "output_type": "stream",
     "text": [
      "W2A2 HW OCRed text: mally, the process has to be described in\n",
      "W2A2 HW MOps/s: 141296.245179383\n",
      "W2A2 HW inference time [ms]: 1.2935500144958496\n"
     ]
    }
   ],
   "source": [
    "W2A2_hw_ocr = rnn.PynqPlainOCR(network=\"W2A2\", runtime=rnn.RUNTIME_HW)\n",
    "W2A2_hw_result = W2A2_hw_ocr.inference(im)\n",
    "W2A2_hw_mops_per_s, W2A2_hw_ms_inference_time, W2A2_hw_recognized_text = W2A2_hw_result\n",
    "W2A2_hw_ocr.cleanup()\n",
    "\n",
    "print(\"W2A2 HW OCRed text: {}\".format(W2A2_hw_recognized_text))\n",
    "print(\"W2A2 HW MOps/s: {}\".format(W2A2_hw_mops_per_s))\n",
    "print(\"W2A2 HW inference time [ms]: {}\".format(W2A2_hw_ms_inference_time))"
   ]
  },
  {
   "cell_type": "markdown",
   "metadata": {},
   "source": [
    "### Summary\n",
    "Here is a comparison of the inference time for the hardware accelerated implementation at different precisions."
   ]
  },
  {
   "cell_type": "code",
   "execution_count": 7,
   "metadata": {},
   "outputs": [
    {
     "data": {
      "image/png": "[encoded data removed]",
      "text/plain": [
       "<matplotlib.figure.Figure at 0x26770f50>"
      ]
     },
     "metadata": {},
     "output_type": "display_data"
    }
   ],
   "source": [
    "%matplotlib inline\n",
    "import numpy as np\n",
    "import matplotlib.pyplot as plt\n",
    "\n",
    "height = [W2A2_hw_ms_inference_time, \n",
    "          W2A4_hw_ms_inference_time, \n",
    "          W4A4_hw_ms_inference_time, \n",
    "          W4A8_hw_ms_inference_time]\n",
    "bars = ('W2A2', 'W2A4', 'W4A4', 'W4A8')\n",
    "y_pos = np.arange(len(bars))\n",
    "plt.bar(y_pos, height)\n",
    "plt.xticks(y_pos, bars)\n",
    "plt.show()"
   ]
  },
  {
   "cell_type": "markdown",
   "metadata": {},
   "source": [
    "## 3. Software accelerated OCR\n",
    "For the sake of comparison, we show here a software implementation for a given (W4A4) precision."
   ]
  },
  {
   "cell_type": "code",
   "execution_count": 8,
   "metadata": {},
   "outputs": [
    {
     "name": "stdout",
     "output_type": "stream",
     "text": [
      "W4A4 SW OCRed text: mally, the process has to be described in\n",
      "W4A4 SW MOps/s: 2.4391782189015494\n",
      "W4A4 SW inference time [ms]: 74932.515625\n"
     ]
    }
   ],
   "source": [
    "W4A4_sw_ocr = rnn.PynqPlainOCR(network=\"W4A4\", runtime=rnn.RUNTIME_SW)\n",
    "W4A4_sw_result = W4A4_sw_ocr.inference(im)\n",
    "W4A4_sw_mops_per_s, W4A4_sw_ms_inference_time, W4A4_sw_recognized_text = W4A4_sw_result\n",
    "W4A4_sw_ocr.cleanup()\n",
    "\n",
    "print(\"W4A4 SW OCRed text: {}\".format(W4A4_sw_recognized_text))\n",
    "print(\"W4A4 SW MOps/s: {}\".format(W4A4_sw_mops_per_s))\n",
    "print(\"W4A4 SW inference time [ms]: {}\".format(W4A4_sw_ms_inference_time))"
   ]
  }
 ],
 "metadata": {
  "kernelspec": {
   "display_name": "Python 3",
   "language": "python",
   "name": "python3"
  },
  "language_info": {
   "codemirror_mode": {
    "name": "ipython",
    "version": 3
   },
   "file_extension": ".py",
   "mimetype": "text/x-python",
   "name": "python",
   "nbconvert_exporter": "python",
   "pygments_lexer": "ipython3",
   "version": "3.6.5"
  }
 },
 "nbformat": 4,
 "nbformat_minor": 2
}
